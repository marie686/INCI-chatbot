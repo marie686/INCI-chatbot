{
 "cells": [
  {
   "cell_type": "code",
   "execution_count": 4,
   "id": "850ae9a2-efec-40e4-9041-4b54843149c6",
   "metadata": {
    "tags": []
   },
   "outputs": [],
   "source": [
    "import ast  # for converting embeddings saved as strings back to arrays\n",
    "from openai import OpenAI # for calling the OpenAI API\n",
    "import pandas as pd  # for storing text and embeddings data\n",
    "import tiktoken  # for counting tokens\n",
    "import os # for getting API token from env variable OPENAI_API_KEY\n",
    "from scipy import spatial  # for calculating vector similarities for search\n",
    "\n",
    "# create a list of models \n",
    "GPT_MODELS = [\"gpt-4o\", \"gpt-4o-mini\"]\n",
    "# models\n",
    "EMBEDDING_MODEL = \"text-embedding-3-small\"\n",
    "\n"
   ]
  },
  {
   "cell_type": "code",
   "execution_count": 9,
   "id": "233b79fc-4456-4f02-8d34-f7f96033fbf5",
   "metadata": {
    "tags": []
   },
   "outputs": [],
   "source": [
    "# imports\n",
    "import mwclient  # for downloading example Wikipedia articles\n",
    "import mwparserfromhell  # for splitting Wikipedia articles into sections\n",
    "from openai import OpenAI  # for generating embeddings\n",
    "import os  # for environment variables\n",
    "import pandas as pd  # for DataFrames to store article sections and embeddings\n",
    "import re  # for cutting <ref> links out of Wikipedia articles\n",
    "import tiktoken  # for counting tokens\n",
    "\n"
   ]
  },
  {
   "cell_type": "code",
   "execution_count": 11,
   "id": "5e4ab559-acb9-4700-b317-df707bd76c37",
   "metadata": {
    "tags": []
   },
   "outputs": [
    {
     "name": "stdout",
     "output_type": "stream",
     "text": [
      "Found 704 article titles in Category:Cosmetics.\n"
     ]
    }
   ],
   "source": [
    "# get Wikipedia pages about the 2022 Winter Olympics\n",
    "\n",
    "CATEGORY_TITLE = \"Category:Cosmetics\"\n",
    "WIKI_SITE = \"en.wikipedia.org\"\n",
    "\n",
    "\n",
    "def titles_from_category(\n",
    "    category: mwclient.listing.Category, max_depth: int\n",
    ") -> set[str]:\n",
    "    \"\"\"Return a set of page titles in a given Wiki category and its subcategories.\"\"\"\n",
    "    titles = set()\n",
    "    for cm in category.members():\n",
    "        if type(cm) == mwclient.page.Page:\n",
    "            # ^type() used instead of isinstance() to catch match w/ no inheritance\n",
    "            titles.add(cm.name)\n",
    "        elif isinstance(cm, mwclient.listing.Category) and max_depth > 0:\n",
    "            deeper_titles = titles_from_category(cm, max_depth=max_depth - 1)\n",
    "            titles.update(deeper_titles)\n",
    "    return titles\n",
    "\n",
    "\n",
    "site = mwclient.Site(WIKI_SITE)\n",
    "category_page = site.pages[CATEGORY_TITLE]\n",
    "titles = titles_from_category(category_page, max_depth=1)\n",
    "# ^note: max_depth=1 means we go one level deep in the category tree\n",
    "print(f\"Found {len(titles)} article titles in {CATEGORY_TITLE}.\")\n"
   ]
  },
  {
   "cell_type": "code",
   "execution_count": 12,
   "id": "930a0017-8a0c-4c41-b645-c695f3d5ff81",
   "metadata": {
    "tags": []
   },
   "outputs": [],
   "source": [
    "# define functions to split Wikipedia pages into sections\n",
    "\n",
    "SECTIONS_TO_IGNORE = [\n",
    "    \"See also\",\n",
    "    \"References\",\n",
    "    \"External links\",\n",
    "    \"Further reading\",\n",
    "    \"Footnotes\",\n",
    "    \"Bibliography\",\n",
    "    \"Sources\",\n",
    "    \"Citations\",\n",
    "    \"Literature\",\n",
    "    \"Footnotes\",\n",
    "    \"Notes and references\",\n",
    "    \"Photo gallery\",\n",
    "    \"Works cited\",\n",
    "    \"Photos\",\n",
    "    \"Gallery\",\n",
    "    \"Notes\",\n",
    "    \"References and sources\",\n",
    "    \"References and notes\",\n",
    "]\n",
    "\n",
    "\n",
    "def all_subsections_from_section(\n",
    "    section: mwparserfromhell.wikicode.Wikicode,\n",
    "    parent_titles: list[str],\n",
    "    sections_to_ignore: set[str],\n",
    ") -> list[tuple[list[str], str]]:\n",
    "    \"\"\"\n",
    "    From a Wikipedia section, return a flattened list of all nested subsections.\n",
    "    Each subsection is a tuple, where:\n",
    "        - the first element is a list of parent subtitles, starting with the page title\n",
    "        - the second element is the text of the subsection (but not any children)\n",
    "    \"\"\"\n",
    "    headings = [str(h) for h in section.filter_headings()]\n",
    "    title = headings[0]\n",
    "    if title.strip(\"=\" + \" \") in sections_to_ignore:\n",
    "        # ^wiki headings are wrapped like \"== Heading ==\"\n",
    "        return []\n",
    "    titles = parent_titles + [title]\n",
    "    full_text = str(section)\n",
    "    section_text = full_text.split(title)[1]\n",
    "    if len(headings) == 1:\n",
    "        return [(titles, section_text)]\n",
    "    else:\n",
    "        first_subtitle = headings[1]\n",
    "        section_text = section_text.split(first_subtitle)[0]\n",
    "        results = [(titles, section_text)]\n",
    "        for subsection in section.get_sections(levels=[len(titles) + 1]):\n",
    "            results.extend(all_subsections_from_section(subsection, titles, sections_to_ignore))\n",
    "        return results\n",
    "\n",
    "\n",
    "def all_subsections_from_title(\n",
    "    title: str,\n",
    "    sections_to_ignore: set[str] = SECTIONS_TO_IGNORE,\n",
    "    site_name: str = WIKI_SITE,\n",
    ") -> list[tuple[list[str], str]]:\n",
    "    \"\"\"From a Wikipedia page title, return a flattened list of all nested subsections.\n",
    "    Each subsection is a tuple, where:\n",
    "        - the first element is a list of parent subtitles, starting with the page title\n",
    "        - the second element is the text of the subsection (but not any children)\n",
    "    \"\"\"\n",
    "    site = mwclient.Site(site_name)\n",
    "    page = site.pages[title]\n",
    "    text = page.text()\n",
    "    parsed_text = mwparserfromhell.parse(text)\n",
    "    headings = [str(h) for h in parsed_text.filter_headings()]\n",
    "    if headings:\n",
    "        summary_text = str(parsed_text).split(headings[0])[0]\n",
    "    else:\n",
    "        summary_text = str(parsed_text)\n",
    "    results = [([title], summary_text)]\n",
    "    for subsection in parsed_text.get_sections(levels=[2]):\n",
    "        results.extend(all_subsections_from_section(subsection, [title], sections_to_ignore))\n",
    "    return results\n"
   ]
  },
  {
   "cell_type": "code",
   "execution_count": 13,
   "id": "33d6e96b-6091-430a-896f-6859fcbde034",
   "metadata": {
    "tags": []
   },
   "outputs": [
    {
     "name": "stdout",
     "output_type": "stream",
     "text": [
      "Found 4460 sections in 704 pages.\n"
     ]
    }
   ],
   "source": [
    "# split pages into sections\n",
    "# may take ~1 minute per 100 articles\n",
    "wikipedia_sections = []\n",
    "for title in titles:\n",
    "    wikipedia_sections.extend(all_subsections_from_title(title))\n",
    "print(f\"Found {len(wikipedia_sections)} sections in {len(titles)} pages.\")\n"
   ]
  },
  {
   "cell_type": "code",
   "execution_count": 14,
   "id": "e7ea4e2b-2910-4f2e-9ba5-45ce3922b4e6",
   "metadata": {
    "tags": []
   },
   "outputs": [
    {
     "name": "stdout",
     "output_type": "stream",
     "text": [
      "Filtered out 302 sections, leaving 4158 sections.\n"
     ]
    }
   ],
   "source": [
    "# clean text\n",
    "def clean_section(section: tuple[list[str], str]) -> tuple[list[str], str]:\n",
    "    \"\"\"\n",
    "    Return a cleaned up section with:\n",
    "        - <ref>xyz</ref> patterns removed\n",
    "        - leading/trailing whitespace removed\n",
    "    \"\"\"\n",
    "    titles, text = section\n",
    "    text = re.sub(r\"<ref.*?</ref>\", \"\", text)\n",
    "    text = text.strip()\n",
    "    return (titles, text)\n",
    "\n",
    "\n",
    "wikipedia_sections = [clean_section(ws) for ws in wikipedia_sections]\n",
    "\n",
    "# filter out short/blank sections\n",
    "def keep_section(section: tuple[list[str], str]) -> bool:\n",
    "    \"\"\"Return True if the section should be kept, False otherwise.\"\"\"\n",
    "    titles, text = section\n",
    "    if len(text) < 16:\n",
    "        return False\n",
    "    else:\n",
    "        return True\n",
    "\n",
    "\n",
    "original_num_sections = len(wikipedia_sections)\n",
    "wikipedia_sections = [ws for ws in wikipedia_sections if keep_section(ws)]\n",
    "print(f\"Filtered out {original_num_sections-len(wikipedia_sections)} sections, leaving {len(wikipedia_sections)} sections.\")\n"
   ]
  },
  {
   "cell_type": "code",
   "execution_count": 15,
   "id": "8d08ffe7-6e3e-4c8c-af6c-f44101d7b027",
   "metadata": {
    "tags": []
   },
   "outputs": [
    {
     "name": "stdout",
     "output_type": "stream",
     "text": [
      "['Sa Sa International Holdings']\n"
     ]
    },
    {
     "data": {
      "text/plain": [
       "'{{Short description|Hong Kong retail chain}}\\n{{Use dmy dates|date=June 2023}}...'"
      ]
     },
     "metadata": {},
     "output_type": "display_data"
    },
    {
     "name": "stdout",
     "output_type": "stream",
     "text": [
      "\n",
      "['Beautycounter']\n"
     ]
    },
    {
     "data": {
      "text/plain": [
       "'{{Short description|American skincare and cosmetics company}}\\n{{Use mdy dates...'"
      ]
     },
     "metadata": {},
     "output_type": "display_data"
    },
    {
     "name": "stdout",
     "output_type": "stream",
     "text": [
      "\n",
      "['Beautycounter', '==History==']\n"
     ]
    },
    {
     "data": {
      "text/plain": [
       "'Beautycounter was founded by [[Gregg Renfrew]] in 2013.<ref name=fc/> Renfrew...'"
      ]
     },
     "metadata": {},
     "output_type": "display_data"
    },
    {
     "name": "stdout",
     "output_type": "stream",
     "text": [
      "\n",
      "['Beautycounter', '==Legislation==']\n"
     ]
    },
    {
     "data": {
      "text/plain": [
       "'In 2014, Renfrew hired public health and environmental advocate Lindsay Dahl ...'"
      ]
     },
     "metadata": {},
     "output_type": "display_data"
    },
    {
     "name": "stdout",
     "output_type": "stream",
     "text": [
      "\n",
      "['Paintbrush']\n"
     ]
    },
    {
     "data": {
      "text/plain": [
       "'{{Short description|Brush for painting}}\\n{{Other uses}}\\n{{Multiple issues|\\n{{...'"
      ]
     },
     "metadata": {},
     "output_type": "display_data"
    },
    {
     "name": "stdout",
     "output_type": "stream",
     "text": [
      "\n"
     ]
    }
   ],
   "source": [
    "# print example data\n",
    "for ws in wikipedia_sections[:5]:\n",
    "    print(ws[0])\n",
    "    display(ws[1][:77] + \"...\")\n",
    "    print()\n"
   ]
  },
  {
   "cell_type": "code",
   "execution_count": 16,
   "id": "7be0c728-e5b2-471f-b3ca-14367083474d",
   "metadata": {
    "tags": []
   },
   "outputs": [],
   "source": [
    "GPT_MODEL = \"gpt-4o-mini\"  # only matters insofar as it selects which tokenizer to use\n",
    "\n",
    "\n",
    "def num_tokens(text: str, model: str = GPT_MODEL) -> int:\n",
    "    \"\"\"Return the number of tokens in a string.\"\"\"\n",
    "    encoding = tiktoken.encoding_for_model(model)\n",
    "    return len(encoding.encode(text))\n",
    "\n",
    "\n",
    "def halved_by_delimiter(string: str, delimiter: str = \"\\n\") -> list[str, str]:\n",
    "    \"\"\"Split a string in two, on a delimiter, trying to balance tokens on each side.\"\"\"\n",
    "    chunks = string.split(delimiter)\n",
    "    if len(chunks) == 1:\n",
    "        return [string, \"\"]  # no delimiter found\n",
    "    elif len(chunks) == 2:\n",
    "        return chunks  # no need to search for halfway point\n",
    "    else:\n",
    "        total_tokens = num_tokens(string)\n",
    "        halfway = total_tokens // 2\n",
    "        best_diff = halfway\n",
    "        for i, chunk in enumerate(chunks):\n",
    "            left = delimiter.join(chunks[: i + 1])\n",
    "            left_tokens = num_tokens(left)\n",
    "            diff = abs(halfway - left_tokens)\n",
    "            if diff >= best_diff:\n",
    "                break\n",
    "            else:\n",
    "                best_diff = diff\n",
    "        left = delimiter.join(chunks[:i])\n",
    "        right = delimiter.join(chunks[i:])\n",
    "        return [left, right]\n",
    "\n",
    "\n",
    "def truncated_string(\n",
    "    string: str,\n",
    "    model: str,\n",
    "    max_tokens: int,\n",
    "    print_warning: bool = True,\n",
    ") -> str:\n",
    "    \"\"\"Truncate a string to a maximum number of tokens.\"\"\"\n",
    "    encoding = tiktoken.encoding_for_model(model)\n",
    "    encoded_string = encoding.encode(string)\n",
    "    truncated_string = encoding.decode(encoded_string[:max_tokens])\n",
    "    if print_warning and len(encoded_string) > max_tokens:\n",
    "        print(f\"Warning: Truncated string from {len(encoded_string)} tokens to {max_tokens} tokens.\")\n",
    "    return truncated_string\n",
    "\n",
    "\n",
    "def split_strings_from_subsection(\n",
    "    subsection: tuple[list[str], str],\n",
    "    max_tokens: int = 1000,\n",
    "    model: str = GPT_MODEL,\n",
    "    max_recursion: int = 5,\n",
    ") -> list[str]:\n",
    "    \"\"\"\n",
    "    Split a subsection into a list of subsections, each with no more than max_tokens.\n",
    "    Each subsection is a tuple of parent titles [H1, H2, ...] and text (str).\n",
    "    \"\"\"\n",
    "    titles, text = subsection\n",
    "    string = \"\\n\\n\".join(titles + [text])\n",
    "    num_tokens_in_string = num_tokens(string)\n",
    "    # if length is fine, return string\n",
    "    if num_tokens_in_string <= max_tokens:\n",
    "        return [string]\n",
    "    # if recursion hasn't found a split after X iterations, just truncate\n",
    "    elif max_recursion == 0:\n",
    "        return [truncated_string(string, model=model, max_tokens=max_tokens)]\n",
    "    # otherwise, split in half and recurse\n",
    "    else:\n",
    "        titles, text = subsection\n",
    "        for delimiter in [\"\\n\\n\", \"\\n\", \". \"]:\n",
    "            left, right = halved_by_delimiter(text, delimiter=delimiter)\n",
    "            if left == \"\" or right == \"\":\n",
    "                # if either half is empty, retry with a more fine-grained delimiter\n",
    "                continue\n",
    "            else:\n",
    "                # recurse on each half\n",
    "                results = []\n",
    "                for half in [left, right]:\n",
    "                    half_subsection = (titles, half)\n",
    "                    half_strings = split_strings_from_subsection(\n",
    "                        half_subsection,\n",
    "                        max_tokens=max_tokens,\n",
    "                        model=model,\n",
    "                        max_recursion=max_recursion - 1,\n",
    "                    )\n",
    "                    results.extend(half_strings)\n",
    "                return results\n",
    "    # otherwise no split was found, so just truncate (should be very rare)\n",
    "    return [truncated_string(string, model=model, max_tokens=max_tokens)]\n"
   ]
  },
  {
   "cell_type": "code",
   "execution_count": 17,
   "id": "589c1eb8-af4e-4841-9d20-9f46d28f3ac4",
   "metadata": {
    "tags": []
   },
   "outputs": [
    {
     "name": "stdout",
     "output_type": "stream",
     "text": [
      "4158 Wikipedia sections split into 4255 strings.\n"
     ]
    }
   ],
   "source": [
    "# split sections into chunks\n",
    "MAX_TOKENS = 1600\n",
    "wikipedia_strings = []\n",
    "for section in wikipedia_sections:\n",
    "    wikipedia_strings.extend(split_strings_from_subsection(section, max_tokens=MAX_TOKENS))\n",
    "\n",
    "print(f\"{len(wikipedia_sections)} Wikipedia sections split into {len(wikipedia_strings)} strings.\")\n"
   ]
  },
  {
   "cell_type": "code",
   "execution_count": 18,
   "id": "4dabe40f-ab2c-4cd4-9a9a-48bf28f39822",
   "metadata": {
    "tags": []
   },
   "outputs": [
    {
     "name": "stdout",
     "output_type": "stream",
     "text": [
      "Beautycounter\n",
      "\n",
      "{{Short description|American skincare and cosmetics company}}\n",
      "{{Use mdy dates|date=July 2024}}\n",
      "{{infobox company\n",
      "| name = Beautycounter\n",
      "| logo = Beautycounter_company_logo.png\n",
      "| founded = 2013\n",
      "| defunct = {{End date|2024|04|27}}\n",
      "| founder = [[Gregg Renfrew]]\n",
      "| key_people = \n",
      "| hq_location = [[Santa Monica, California]]\n",
      "| industry = [[Skin care]], [[cosmetics]]<ref name=CNBC1/>\n",
      "| owner = \n",
      "| website = {{URL|beautycounter.com}}\n",
      "}}\n",
      "\n",
      "'''Beautycounter''' was an American [[Direct-to-consumer|direct to consumer]] and [[multi-level marketing]] company that sold skin care and cosmetic products.<ref name=CNBC1/> As of 2018, the company had 150 products with over 65,000 independent consultants, and with national retailers.<ref name=crackdown/> In April 2021, Beautycounter was acquired by [[The Carlyle Group]] in a deal that valued the company at $1 billion. In March 2024, Carlyle wrote off its investment in the company and the company went into administration in April 2024.\n"
     ]
    }
   ],
   "source": [
    "# print example data\n",
    "print(wikipedia_strings[1])\n"
   ]
  },
  {
   "cell_type": "code",
   "execution_count": 23,
   "id": "5852d3a8-e08e-45d1-beea-fd8712a6d061",
   "metadata": {
    "tags": []
   },
   "outputs": [
    {
     "name": "stdout",
     "output_type": "stream",
     "text": [
      "Batch 0 to 1999\n",
      "Batch 2000 to 3999\n",
      "Batch 4000 to 5999\n"
     ]
    }
   ],
   "source": [
    "EMBEDDING_MODEL = \"text-embedding-3-small\"\n",
    "BATCH_SIZE = 2000  # you can submit up to 2048 embedding inputs per request\n",
    "\n",
    "embeddings = []\n",
    "for batch_start in range(0, len(wikipedia_strings), BATCH_SIZE):\n",
    "    batch_end = batch_start + BATCH_SIZE\n",
    "    batch = wikipedia_strings[batch_start:batch_end]\n",
    "    print(f\"Batch {batch_start} to {batch_end-1}\")\n",
    "    response = client.embeddings.create(model=EMBEDDING_MODEL, input=batch)\n",
    "    for i, be in enumerate(response.data):\n",
    "        assert i == be.index  # double check embeddings are in same order as input\n",
    "    batch_embeddings = [e.embedding for e in response.data]\n",
    "    embeddings.extend(batch_embeddings)\n",
    "\n",
    "df = pd.DataFrame({\"text\": wikipedia_strings, \"embedding\": embeddings})\n"
   ]
  },
  {
   "cell_type": "code",
   "execution_count": 24,
   "id": "4411480c-1245-472e-a5e5-3a69908ff7c6",
   "metadata": {
    "tags": []
   },
   "outputs": [],
   "source": [
    "# save document chunks and embeddings\n",
    "\n",
    "SAVE_PATH = \"data/cosmetics.csv\"\n",
    "\n",
    "df.to_csv(SAVE_PATH, index=False)\n"
   ]
  },
  {
   "cell_type": "code",
   "execution_count": 25,
   "id": "c2a5e928-eefb-4333-abd7-7af4a47b5367",
   "metadata": {
    "tags": []
   },
   "outputs": [],
   "source": [
    "# search function\n",
    "def strings_ranked_by_relatedness(\n",
    "    query: str,\n",
    "    df: pd.DataFrame,\n",
    "    relatedness_fn=lambda x, y: 1 - spatial.distance.cosine(x, y),\n",
    "    top_n: int = 100\n",
    ") -> tuple[list[str], list[float]]:\n",
    "    \"\"\"Returns a list of strings and relatednesses, sorted from most related to least.\"\"\"\n",
    "    query_embedding_response = client.embeddings.create(\n",
    "        model=EMBEDDING_MODEL,\n",
    "        input=query,\n",
    "    )\n",
    "    query_embedding = query_embedding_response.data[0].embedding\n",
    "    strings_and_relatednesses = [\n",
    "        (row[\"text\"], relatedness_fn(query_embedding, row[\"embedding\"]))\n",
    "        for i, row in df.iterrows()\n",
    "    ]\n",
    "    strings_and_relatednesses.sort(key=lambda x: x[1], reverse=True)\n",
    "    strings, relatednesses = zip(*strings_and_relatednesses)\n",
    "    return strings[:top_n], relatednesses[:top_n]\n"
   ]
  },
  {
   "cell_type": "code",
   "execution_count": 40,
   "id": "136f94ef-9844-42c6-9156-b555663eb927",
   "metadata": {
    "tags": []
   },
   "outputs": [
    {
     "name": "stdout",
     "output_type": "stream",
     "text": [
      "relatedness=0.652\n"
     ]
    },
    {
     "data": {
      "text/plain": [
       "'Sunscreen\\n\\n== Health effects ==\\n\\n{{See also|Health effects of sunlight exposure}}'"
      ]
     },
     "metadata": {},
     "output_type": "display_data"
    },
    {
     "name": "stdout",
     "output_type": "stream",
     "text": [
      "relatedness=0.636\n"
     ]
    },
    {
     "data": {
      "text/plain": [
       "'Sunscreen\\n\\n{{Short description|Skin product helping to prevent sunburn}}\\n{{Redirect|Sunblock|the electronic music group|Sunblock (band)|the Ball Park Music song|Sunscreen (song)}}\\n{{Distinguish|text=[[indoor tanning lotion]], the suntan lotion which intensifies sun exposure}}\\n{{Use mdy dates|date=June 2015}}\\n{{Infobox medical intervention\\n| name         = Sunscreen\\n| image        = Sunscreen on back under normal and UV light.jpg\\n| caption      = Sunscreen on back under normal and UV light\\n| alt          = \\n| pronounce    =  \\n| synonyms     = Sun screen, sunblock, sunburn cream, sun cream, block out\\n| ICD10        = \\n| ICD9         = \\n| ICD9unlinked = \\n| MeshID       = \\n| LOINC        = \\n| other_codes  = \\n| MedlinePlus  = \\n| eMedicine    = \\n}}\\n\\n\\'\\'\\'Sunscreen\\'\\'\\', also known as \\'\\'\\'sunblock\\'\\'\\',{{efn|Sunblock and sunscreen are often used as synonyms. However, the term \"sunblock\" is controversial and banned in the EU and USA), sticks, powders and other topical products. Sunscreens are common supplements to clothing, particularly [[sunglasses]], [[sunhat]]s and special [[sun protective clothing]], and other forms of photoprotection (such as [[umbrella]]s).\\n\\nSunscreens may be classified according to the type of [[#Active_ingredients|active ingredient(s)]] present in the formulation ([[inorganic compound]]s or [[organic compound|organic molecules]]) as:\\n\\n* Mineral sunscreens (also referred to as physical), which use only [[inorganic compound]]s ([[zinc oxide]] and/or [[titanium dioxide]]) as active ingredients. These ingredients primarily work by absorbing UV rays but also through reflection and refraction.\\n* Chemical sunscreens, which use organic molecules as active ingredients. These products are sometimes referred to as petrochemical sunscreens since the active organic molecules are synthesized starting from building blocks typically derived from petroleum. Chemical sunscreen ingredients also mainly work by absorbing the UV rays. Over the years, some organic UV absorbers have been heavily scrutinised to assess their toxicity and a few of them have been banned in places such as Hawaii and Thailand for their impact on aquatic life and the environment.\\n* Hybrid sunscreens, which contain a combination of organic and inorganic UV filters.\\n\\nMedical organizations such as the [[American Cancer Society]] recommend the use of sunscreen because it aids in the prevention of [[squamous cell carcinomas]]. The routine use of sunscreens may also reduce the risk of [[melanoma]]. To effectively protect against all the potential damages of UV light, the use of broad-spectrum sunscreens (covering both [[Ultraviolet#Subtypes|UVA]] and [[Ultraviolet#Subtypes|UVB]] radiation) has been recommended.<ref name=\"fda2011\" />\\n\\nAs of 2021, only zinc oxide and titanium dioxide are generally recognized as safe and effective ([[Generally recognized as safe and effective|GRASE]]) by the U.S. Food and Drug Administration (FDA) since there is currently insufficient data to support recognizing petrochemical UV filters as safe.'"
      ]
     },
     "metadata": {},
     "output_type": "display_data"
    },
    {
     "name": "stdout",
     "output_type": "stream",
     "text": [
      "relatedness=0.607\n"
     ]
    },
    {
     "data": {
      "text/plain": [
       "'Sunscreen\\n\\n== Measurements of protection ==\\n\\n[[File:Sunburn blisters.jpg|thumb | Sunscreen helps prevent [[sunburn]], such as this, which has blistered.]]'"
      ]
     },
     "metadata": {},
     "output_type": "display_data"
    },
    {
     "name": "stdout",
     "output_type": "stream",
     "text": [
      "relatedness=0.604\n"
     ]
    },
    {
     "data": {
      "text/plain": [
       "'Sunscreen\\n\\n== History ==\\n\\n[[File:Malagasy Woman (26905387615).jpg|thumb|[[Malagasy people|Malagasy]] woman from [[Madagascar]] wearing [[masonjoany]], a traditional sunscreen whose use dates back to the 18th century]]\\n[[File:Thanaka girls.JPG|thumb|Burmese girls wearing \\'\\'[[thanaka]]\\'\\' for sun protection and cosmetic purposes]] \\nEarly civilizations used a variety of plant products to help protect the skin from sun damage. For example, [[ancient Greeks]] used olive oil for this purpose, and [[ancient Egypt]]ians used extracts of rice, jasmine, and lupine plants whose products are still used in skin care today. Zinc oxide paste has also been popular for skin protection for thousands of years. Among the nomadic sea-going [[Sama-Bajau people]] of the [[Philippines]], [[Malaysia]], and [[Indonesia]], a common type of sun protection is a paste called \\'\\'[[borak (cosmetic)|borak]]\\'\\' or \\'\\'[[borak (cosmetic)|burak]]\\'\\', which was made from water weeds, rice and spices. It is used most commonly by women to protect the face and exposed skin areas from the harsh tropical sun at sea. In [[Myanmar]], [[thanaka]], a yellow-white cosmetic paste made of ground bark, is traditionally used for sun protection. In [[Madagascar]], a ground wood paste called [[masonjoany]] has been worn for sun protection, as well as decoration and insect repellent, since the 18th century, and is ubiquitous in the Northwest coastal regions of the island to this day.\\n\\nThe first ultraviolet B filters were produced in 1928. Followed by the first sunscreen, invented in Australia by chemist H.A. Milton Blake, in 1932 formulating with the UV filter \\'salol\\' (Phenyl salicylate) at a concentration of 10%. Its protection was verified by the [[University of Adelaide]]. In 1936, [[L\\'Oreal]] released its first sunscreen product, formulated by French chemist [[Eugène Schueller]].<ref name=\"Lim_2004\" />\\n\\nThe US military was an early adopter of sunscreen. In 1944, as the hazards of sun overexposure became apparent to soldiers stationed in the Pacific tropics at the height of [[World War II]], Benjamin Green, an airman and later a [[pharmacist]] produced Red Vet Pet (for red veterinary petrolatum) for the US military. Sales boomed when [[Coppertone]] improved and commercialized the substance under the [[Coppertone girl]] and [[Bain de Soleil]] branding in the early 1950s. In 1946, [[Austria]]n chemist Franz Greiter introduced a product, called \\'\\'Gletscher Crème\\'\\' (Glacier Cream), subsequently became the basis for the company Piz Buin, named in honor of [[Piz Buin|the mountain]] where Greiter allegedly received the sunburn.\\n\\nIn 1974, Greiter adapted earlier calculations from Friedrich Ellinger and Rudolf Schulze and introduced the \"sun protection factor\" (SPF), which has become the global standard for measuring UVB protection. It has been estimated that \\'\\'Gletscher Crème\\'\\' had an SPF of 2.\\n\\nWater-resistant sunscreens were introduced in 1977, more appealing to use'"
      ]
     },
     "metadata": {},
     "output_type": "display_data"
    },
    {
     "name": "stdout",
     "output_type": "stream",
     "text": [
      "relatedness=0.603\n"
     ]
    },
    {
     "data": {
      "text/plain": [
       "'Sunscreen\\n\\n== Active ingredients ==\\n\\n{{anchor|table}}\\n{| class=\"wikitable\"\\n! UV-filter\\n! Other names\\n! Maximum concentration\\n! Known permitting jurisdictions\\n! Results of safety testing\\n! UVA\\n! UVB\\n|-\\n| [[p-Aminobenzoic acid]]\\n| PABA\\n| 15% (USA), (EU: banned from sale to consumers from 8 October 2009)\\n| USA\\n| Protects against skin tumors in mice.  Shown to increase DNA defects, and not [[Generally recognized as safe and effective|generally recognised as safe and effective]] according to the [[Food and Drug Administration|FDA]]<ref name=\"Center for Drug Evaluation and Research_2022\" />\\n|\\n|  X\\n|-\\n| [[Padimate O]]\\n| OD-PABA, octyldimethyl-PABA, σ-PABA\\n| 8% (USA, AUS) 10% (JP)\\n(Not currently supported in EU and may be delisted)\\n| EU, USA, AUS, JP\\n| \\n|\\n|  X\\n|-\\n| [[Phenylbenzimidazole sulfonic acid]]\\n| Ensulizole, PBSA\\n| 4% (USA, AUS) 8% (EU) 3% (JP)\\n| EU, USA, AUS, JP\\n| Genotoxic in bacteria\\n|\\n|  X\\n|-\\n| [[Cinoxate]]\\n| 2-Ethoxyethyl p-methoxycinnamate\\n| 3% (USA) 6% (AUS)\\n| USA, AUS\\n| \\n|  X\\n|  X\\n|-\\n| [[Dioxybenzone]]\\n| Benzophenone-8\\n| 3% (USA)\\n| USA, AUS\\n| \\n|  X\\n|  X\\n|-\\n| [[Oxybenzone]]\\n| Benzophenone-3\\n| 6% (USA), 2.2% (body) / 6% (face) EU, 10% AUS,\\n| EU, USA, AUS\\n| Banned in Hawaii since 2018\\n|  X\\n|  X\\n|-\\n| [[Homosalate]]\\n| Homomethyl salicylate\\n| 7.34% (EU) 15% (USA, AUS)\\n| EU, USA, AUS\\n| \\n|\\n|  X\\n|-\\n| [[Menthyl anthranilate]]\\n| Meradimate\\n| 5% (USA)\\n| USA, AUS\\n| \\n|  X\\n|\\n|-\\n| [[Octocrylene]]\\n| Eusolex OCR, Parsol 340, 2-Cyano-3,3-diphenyl acrylic acid, 2-ethylhexylester\\n| 10% (USA)\\n| EU, USA, AUS\\n| Increases [[reactive oxygen species]] (ROS)\\n|  X\\n|  X\\n|-\\n| [[Octinoxate]]\\n| Octyl-methoxycinnamate, Ethylhexyl methoxycinnamate, 2-Ethylhexyl-paramethoxycinnamate\\n| 7.5% (USA) 10% (EU, AUS) 20% (JP)\\n| EU, USA, AUS, JP\\n| Banned in [[Hawaii]] since 2021 - harmful to [[coral]]\\n|\\n|  X\\n|-\\n| [[Octyl salicylate]]\\n| Octisalate, 2-Ethylhexyl salicylate\\n| 5% (EU, USA, AUS) 10% (JP)\\n| EU, USA, AUS, JP\\n| \\n|\\n|  X\\n|-\\n| [[Sulisobenzone]]\\n| 2-Hydroxy-4-Methoxybenzophenone-5-sulfonic acid, 3-Benzoyl-4-hydroxy-6-methoxybenzenesulfonic acid, Benzophenone-4\\n| 5% (EU) 10% (USA, AUS, JP)\\n| EU, USA, AUS, JP\\n| \\n|  X\\n|  X\\n|-\\n| [[Avobenzone]]\\n| 1-(4-methoxyphenyl)-3-(4-tert-butyl<br>phenyl)propane-1,3-dione, Butyl methoxy dibenzoylmethane,\\n| 3% (USA) 5% (EU, AUS)\\n| EU, USA, AUS\\n| \\n|  X\\n|\\n|-\\n| [[Ecamsule]]\\n| Terephthalylidene Dicamphor Sulfonic Acid\\n| 10%\\n| EU, AUS (US: approved in certain formulations up to 3% via New Drug Application (NDA) Route)\\n| Protects against skin tumors in mice\\n|  X\\n|\\n|-\\n| [[Titanium dioxide]]\\n| CI77891, TiO₂\\n| 25% (US) No limit (JP)\\n| EU, USA, AUS, JP\\n| [[Generally recognized as safe and effective]] by the [[Food and Drug Administration|FDA]]\\n|  \\n|  X\\n|-\\n| [[Zinc oxide]]\\n| CI77947, ZnO\\n| 25% (US) No limit (AUS, JP)\\n| EU, USA, AUS, JP\\n| [[Generally recognized as safe and effective]] by the [[Food and Drug Administration|FDA]].<ref name=\"Center for Drug Evaluation and Research_2022\" /> Protects against skin tumors in mice<ref name=\"autogenerated1\" />\\n|  X\\n|  X\\n|}\\nZinc oxide was approved as a UV filter by the EU in 2016.'"
      ]
     },
     "metadata": {},
     "output_type": "display_data"
    }
   ],
   "source": [
    "# examples\n",
    "strings, relatednesses = strings_ranked_by_relatedness(\"sunscreen\", df, top_n=5)\n",
    "for string, relatedness in zip(strings, relatednesses):\n",
    "    print(f\"{relatedness=:.3f}\")\n",
    "    display(string)"
   ]
  },
  {
   "cell_type": "code",
   "execution_count": 38,
   "id": "88306956-9b40-45d9-ac29-431c10456e77",
   "metadata": {
    "tags": []
   },
   "outputs": [],
   "source": [
    "def num_tokens(text: str, model: str = GPT_MODELS[0]) -> int:\n",
    "    \"\"\"Return the number of tokens in a string.\"\"\"\n",
    "    encoding = tiktoken.encoding_for_model(model)\n",
    "    return len(encoding.encode(text))\n",
    "\n",
    "\n",
    "def query_message(\n",
    "    query: str,\n",
    "    df: pd.DataFrame,\n",
    "    model: str,\n",
    "    token_budget: int\n",
    ") -> str:\n",
    "    \"\"\"Return a message for GPT, with relevant source texts pulled from a dataframe.\"\"\"\n",
    "    strings, relatednesses = strings_ranked_by_relatedness(query, df)\n",
    "    introduction = (\n",
    "    \"Use the below articles to answer the subsequent question as best as you can. \"\n",
    "    \"If you're not sure, provide your best guess based on the information.\"\n",
    ")\n",
    "\n",
    "    question = f\"\\n\\nQuestion: {query}\"\n",
    "    message = introduction\n",
    "    for string in strings:\n",
    "        next_article = f'\\n\\nWikipedia article section:\\n\"\"\"\\n{string}\\n\"\"\"'\n",
    "        if (\n",
    "            num_tokens(message + next_article + question, model=model)\n",
    "            > token_budget\n",
    "        ):\n",
    "            break\n",
    "        else:\n",
    "            message += next_article\n",
    "    return message + question\n",
    "\n",
    "\n",
    "def ask(\n",
    "    query: str,\n",
    "    df: pd.DataFrame = df,\n",
    "    model: str = GPT_MODELS[0],\n",
    "    token_budget: int = 4096 - 500,\n",
    "    print_message: bool = False,\n",
    ") -> str:\n",
    "    \"\"\"Answers a query using GPT and a dataframe of relevant texts and embeddings.\"\"\"\n",
    "    message = query_message(query, df, model=model, token_budget=token_budget)\n",
    "    if print_message:\n",
    "        print(message)\n",
    "    messages = [\n",
    "        {\"role\": \"system\", \"content\": \"Your answer\"},\n",
    "        {\"role\": \"user\", \"content\": message},\n",
    "    ]\n",
    "    response = client.chat.completions.create(\n",
    "        model=model,\n",
    "        messages=messages,\n",
    "        temperature=0\n",
    "    )\n",
    "    response_message = response.choices[0].message.content\n",
    "    return response_message\n",
    "\n"
   ]
  },
  {
   "cell_type": "code",
   "execution_count": 39,
   "id": "03f87a97-5494-48f0-bd54-44202670d0ea",
   "metadata": {
    "tags": []
   },
   "outputs": [
    {
     "data": {
      "text/plain": [
       "'The UV filters that are banned include:\\n\\n1. **p-Aminobenzoic acid (PABA)** - Banned in the EU from sale to consumers since October 2009 and banned in the USA in 2021 due to safety concerns.\\n2. **Trolamine salicylate** - Banned in the USA in 2021 due to safety concerns.\\n3. **Oxybenzone** - Banned in Hawaii since 2018 due to environmental concerns, particularly its harmful effects on coral reefs.\\n4. **Octinoxate** - Banned in Hawaii since 2021 due to environmental concerns, particularly its harmful effects on coral reefs.\\n\\nThese bans are primarily due to safety concerns for human health or environmental impacts, particularly on marine ecosystems.'"
      ]
     },
     "execution_count": 39,
     "metadata": {},
     "output_type": "execute_result"
    }
   ],
   "source": [
    "ask('What UV filters are banned?')"
   ]
  },
  {
   "cell_type": "code",
   "execution_count": 35,
   "id": "ebbe8713-8fb7-4a10-ba41-9d731ae601f9",
   "metadata": {
    "tags": []
   },
   "outputs": [
    {
     "name": "stdout",
     "output_type": "stream",
     "text": [
      "Use the below articles to answer the subsequent question. If the answer cannot be found in the articles, write \"I could not find an answer.\"\n",
      "\n",
      "Wikipedia article section:\n",
      "\"\"\"\n",
      "Sunscreen\n",
      "\n",
      "== Active ingredients ==\n",
      "\n",
      "{{anchor|table}}\n",
      "{| class=\"wikitable\"\n",
      "! UV-filter\n",
      "! Other names\n",
      "! Maximum concentration\n",
      "! Known permitting jurisdictions\n",
      "! Results of safety testing\n",
      "! UVA\n",
      "! UVB\n",
      "|-\n",
      "| [[p-Aminobenzoic acid]]\n",
      "| PABA\n",
      "| 15% (USA), (EU: banned from sale to consumers from 8 October 2009)\n",
      "| USA\n",
      "| Protects against skin tumors in mice.  Shown to increase DNA defects, and not [[Generally recognized as safe and effective|generally recognised as safe and effective]] according to the [[Food and Drug Administration|FDA]]<ref name=\"Center for Drug Evaluation and Research_2022\" />\n",
      "|\n",
      "|  X\n",
      "|-\n",
      "| [[Padimate O]]\n",
      "| OD-PABA, octyldimethyl-PABA, σ-PABA\n",
      "| 8% (USA, AUS) 10% (JP)\n",
      "(Not currently supported in EU and may be delisted)\n",
      "| EU, USA, AUS, JP\n",
      "| \n",
      "|\n",
      "|  X\n",
      "|-\n",
      "| [[Phenylbenzimidazole sulfonic acid]]\n",
      "| Ensulizole, PBSA\n",
      "| 4% (USA, AUS) 8% (EU) 3% (JP)\n",
      "| EU, USA, AUS, JP\n",
      "| Genotoxic in bacteria\n",
      "|\n",
      "|  X\n",
      "|-\n",
      "| [[Cinoxate]]\n",
      "| 2-Ethoxyethyl p-methoxycinnamate\n",
      "| 3% (USA) 6% (AUS)\n",
      "| USA, AUS\n",
      "| \n",
      "|  X\n",
      "|  X\n",
      "|-\n",
      "| [[Dioxybenzone]]\n",
      "| Benzophenone-8\n",
      "| 3% (USA)\n",
      "| USA, AUS\n",
      "| \n",
      "|  X\n",
      "|  X\n",
      "|-\n",
      "| [[Oxybenzone]]\n",
      "| Benzophenone-3\n",
      "| 6% (USA), 2.2% (body) / 6% (face) EU, 10% AUS,\n",
      "| EU, USA, AUS\n",
      "| Banned in Hawaii since 2018\n",
      "|  X\n",
      "|  X\n",
      "|-\n",
      "| [[Homosalate]]\n",
      "| Homomethyl salicylate\n",
      "| 7.34% (EU) 15% (USA, AUS)\n",
      "| EU, USA, AUS\n",
      "| \n",
      "|\n",
      "|  X\n",
      "|-\n",
      "| [[Menthyl anthranilate]]\n",
      "| Meradimate\n",
      "| 5% (USA)\n",
      "| USA, AUS\n",
      "| \n",
      "|  X\n",
      "|\n",
      "|-\n",
      "| [[Octocrylene]]\n",
      "| Eusolex OCR, Parsol 340, 2-Cyano-3,3-diphenyl acrylic acid, 2-ethylhexylester\n",
      "| 10% (USA)\n",
      "| EU, USA, AUS\n",
      "| Increases [[reactive oxygen species]] (ROS)\n",
      "|  X\n",
      "|  X\n",
      "|-\n",
      "| [[Octinoxate]]\n",
      "| Octyl-methoxycinnamate, Ethylhexyl methoxycinnamate, 2-Ethylhexyl-paramethoxycinnamate\n",
      "| 7.5% (USA) 10% (EU, AUS) 20% (JP)\n",
      "| EU, USA, AUS, JP\n",
      "| Banned in [[Hawaii]] since 2021 - harmful to [[coral]]\n",
      "|\n",
      "|  X\n",
      "|-\n",
      "| [[Octyl salicylate]]\n",
      "| Octisalate, 2-Ethylhexyl salicylate\n",
      "| 5% (EU, USA, AUS) 10% (JP)\n",
      "| EU, USA, AUS, JP\n",
      "| \n",
      "|\n",
      "|  X\n",
      "|-\n",
      "| [[Sulisobenzone]]\n",
      "| 2-Hydroxy-4-Methoxybenzophenone-5-sulfonic acid, 3-Benzoyl-4-hydroxy-6-methoxybenzenesulfonic acid, Benzophenone-4\n",
      "| 5% (EU) 10% (USA, AUS, JP)\n",
      "| EU, USA, AUS, JP\n",
      "| \n",
      "|  X\n",
      "|  X\n",
      "|-\n",
      "| [[Avobenzone]]\n",
      "| 1-(4-methoxyphenyl)-3-(4-tert-butyl<br>phenyl)propane-1,3-dione, Butyl methoxy dibenzoylmethane,\n",
      "| 3% (USA) 5% (EU, AUS)\n",
      "| EU, USA, AUS\n",
      "| \n",
      "|  X\n",
      "|\n",
      "|-\n",
      "| [[Ecamsule]]\n",
      "| Terephthalylidene Dicamphor Sulfonic Acid\n",
      "| 10%\n",
      "| EU, AUS (US: approved in certain formulations up to 3% via New Drug Application (NDA) Route)\n",
      "| Protects against skin tumors in mice\n",
      "|  X\n",
      "|\n",
      "|-\n",
      "| [[Titanium dioxide]]\n",
      "| CI77891, TiO₂\n",
      "| 25% (US) No limit (JP)\n",
      "| EU, USA, AUS, JP\n",
      "| [[Generally recognized as safe and effective]] by the [[Food and Drug Administration|FDA]]\n",
      "|  \n",
      "|  X\n",
      "|-\n",
      "| [[Zinc oxide]]\n",
      "| CI77947, ZnO\n",
      "| 25% (US) No limit (AUS, JP)\n",
      "| EU, USA, AUS, JP\n",
      "| [[Generally recognized as safe and effective]] by the [[Food and Drug Administration|FDA]].<ref name=\"Center for Drug Evaluation and Research_2022\" /> Protects against skin tumors in mice<ref name=\"autogenerated1\" />\n",
      "|  X\n",
      "|  X\n",
      "|}\n",
      "Zinc oxide was approved as a UV filter by the EU in 2016.\n",
      "\"\"\"\n",
      "\n",
      "Wikipedia article section:\n",
      "\"\"\"\n",
      "Sunscreen\n",
      "\n",
      "== Health effects ==\n",
      "\n",
      "=== Risks ===\n",
      "\n",
      "In February 2019, the US [[Food and Drug Administration]] (FDA) started classifying already approved UV filter molecules into three categories: those which are [[generally recognized as safe and effective]] (GRASE), those which are non-GRASE due to safety issues, and those requiring further evaluation. As of 2021, only zinc oxide and titanium dioxide are recognized as GRASE. Two previously approved UV filters, para-aminobenzoic acid (PABA) and trolamine salicylate, were banned in 2021 due to safety concerns. The remaining FDA approved active ingredients were put in the third category as their manufacturers have yet to produce sufficient safety data — despite the fact that some of the chemicals have sold in sunscreen products for more than 40 years. although environmentalists say this ignores \"ample safer alternatives available on the market containing the active ingredient minerals zinc oxide or titanium dioxide\", which are also safer for the environment.\n",
      "\n",
      "Regulators can investigate and ban UV filters over safety concerns (such as [[Para-aminobenzoic acid|PABA]]), which can result in withdrawal of products from the consumer market. Regulators, such as the TGA and the FDA, have also been concerned with recent reports of contamination in sunscreen products with known possible human carcinogens such as [[benzene]] and [[benzophenone]]. Independent laboratory testing carried out by Valisure found benzene contamination in 27% of the sunscreens they tested, with some batches having up to triple the FDA's conditionally restricted limit of 2 parts per million (ppm). This resulted in a voluntary recall by some major sunscreen brands that were implicated in the testing, as such, regulators also help publicise and coordinate these voluntary recalls. VOC's (Volatile Organic Compounds) such as benzene, are particularly harmful in sunscreen formulations as many active and inactive ingredients can increase permeation across the skin. Butane, which is used as a propellant in spray sunscreens, has been found to have benzene impurities from the refinement process.\n",
      "\n",
      "Recent research by the FDA on six common petrochemical UV filters ([[avobenzone]], [[oxybenzone]], [[octocrylene]], [[homosalate]], [[2-Ethylhexyl salicylate|octisalate]], and [[octyl methoxycinnamate|octinoxate]]) found that they could be detected on the skin, in blood, in breast milk and in urine samples weeks after a single use.\n",
      "\n",
      "There is a risk of an allergic reaction to sunscreen for some individuals, as \"Typical allergic contact dermatitis may occur in individuals allergic to any of the ingredients that are found in sunscreen products or cosmetic preparations that have a sunscreen component. The rash can occur anywhere on the body where the substance has been applied and sometimes may spread to unexpected sites.\"\n",
      "\"\"\"\n",
      "\n",
      "Wikipedia article section:\n",
      "\"\"\"\n",
      "Sunscreen\n",
      "\n",
      "== Environmental effects ==\n",
      "\n",
      "Some sunscreen active ingredients have been shown to cause toxicity towards marine life and coral, resulting in bans in different states, countries and ecological areas. Coral reefs, comprising organisms in delicate ecological balances, are vulnerable to even minor environmental disturbances. Factors like temperature changes, invasive species, pollution, and detrimental fishing practices have previously been highlighted as threats to coral health.\n",
      "\n",
      "In 2018, Hawaii passed legislation that prohibits the sale of sunscreens containing [[oxybenzone]] and [[octinoxate]]. In sufficient concentrations, oxybenzone and octinoxate can damage coral DNA, induce deformities in coral [[Larva|larvae]], an assessment in Kahaluu Bay in Hawaii showed oxybenzone concentrations to be 262 times higher than what the U.S. Environmental Protection Agency designates as high-risk. Another study in Hanauma Bay found levels of the chemical ranging from 30 ng/L to 27,880 ng/L, noting that concentrations beyond 63 ng/L could induce toxicity in corals.\n",
      "\n",
      "Echoing Hawaii's initiative, other regions including Key West, Florida, the U.S. Virgin Islands, Bonaire, and Palau have also instituted bans on sunscreens containing oxybenzone and octinoxate.\n",
      "\n",
      "The environmental implications of sunscreen usage on marine ecosystems are multi-faceted and vary in severity. In a 2015 study, titanium dioxide nanoparticles, when introduced to water and subjected to ultraviolet light, were shown to amplify the production of hydrogen peroxide, a compound known to damage phytoplankton. In 2002, research indicated that sunscreens might escalate virus abundance in seawater, compromising the marine environment in a manner akin to other pollutants. Further probing the matter, a 2008 investigation examining a variety of sunscreen brands, protective factors, and concentrations revealed unanimous bleaching effects on hard corals. Alarmingly, the degree of bleaching magnified with increasing sunscreen quantities. When assessing individual compounds prevalent in sunscreens, substances such as butylparaben, ethylhexylmethoxycinnamate, benzophenone-3, and 4-methylbenzylidene camphor induced complete coral bleaching at even minimal concentrations.\n",
      "\n",
      "A 2020 study from the journal ''Current Dermatology Report'' summarized the situation as the US FDA currently approving only zinc oxide (ZnO) and titanium dioxide (TiO<sub>2</sub>) as safe ultraviolet filters, and for those concerned with coral bleaching, they should use non-nano ZnO or TiO<sub>2</sub> since they have the most consistent safety data.\n",
      "\"\"\"\n",
      "\n",
      "Wikipedia article section:\n",
      "\"\"\"\n",
      "Certified Organic Sunscreen\n",
      "\n",
      "== Ecological advantages of certified organic sunscreen ==\n",
      "\n",
      "Certified Organic Sunscreen bans the use of all petrochemicals active ingredients that are generally regarded as harmful to the environment such as [[Avobenzone]], [[Oxybenzone]], [[Octinoxate]]. Avobenzone, for example, is one of the most frequently used UV filters on the market and  has been shown to cause damage to marine ecosystems such as coral reefs and harm marine life. Avobenzone has also been shown to absorb into the bloodstream after application in an FDA funded study. [[Oxybenzone]] and [[Octinoxate]] were also both banned in Hawaii over studies showing toxicity towards marine life.\n",
      "\"\"\"\n",
      "\n",
      "Wikipedia article section:\n",
      "\"\"\"\n",
      "Sunscreen\n",
      "\n",
      "== Active ingredients ==\n",
      "\n",
      "Sunscreen formulations contain UV absorbing compounds (the active ingredients) dissolved or dispersed in a mixture of other ingredients, such as water, oils, moisturizers, and antioxidants. The UV filters can be either:\n",
      "\n",
      "* [[organic chemistry|Organic compounds]] which absorb ultraviolet light. Some organic compounds ([[bisoctrizole]] and phenylene bis-diphenyltriazine) also partially reflect incident light.<ref name=\"Pantelic_2023\"/> These are also referred to as \"chemical\" UV filters.\n",
      "* [[Inorganic chemistry|Inorganic compounds]] ([[zinc oxide]] and [[titanium dioxide]]), which reflect, scatter, and absorb UV light. These are also referred to as \"mineral\" filters.\n",
      "\n",
      "The organic compounds used as UV filter are often [[aromaticity|aromatic]] molecules [[conjugated system|conjugated]] with [[carbonyl]] groups. This general structure allows the molecule to absorb high-energy ultraviolet rays and release the energy as lower-energy rays, thereby preventing the skin-damaging ultraviolet rays from reaching the skin. So, upon exposure to UV light, most of the ingredients (with the notable exception of [[avobenzone]]) do not undergo significant chemical change, allowing these ingredients to retain the UV-absorbing potency without significant [[photodegradation]]. [[octocrylene]] and various other photostabilisers. Most organic compounds in sunscreens slowly degrade and become less effective over the course of several years even if stored properly, resulting in the [[shelf life|expiration dates]] calculated for the product.\n",
      "\n",
      "Sunscreening agents are used in some hair care products such as shampoos, conditioners and styling agents to protect against protein degradation and color loss. Currently, [[benzophenone-4]] and [[ethylhexyl methoxycinnamate]] are the two sunscreens most commonly used in hair products. The common sunscreens used on skin are rarely used for hair products due to their texture and weight effects.\n",
      "\n",
      "UV filters need usually to be approved by local agencies (such as the FDA in the United States) to be used in sunscreen formulations. As of 2023, 29 compounds are approved in the European Union and 17 in the USA. No UV filters have been approved by the FDA for use in cosmetics since 1999.\n",
      "\n",
      "The following are the FDA allowable active ingredients in sunscreens:\n",
      "\"\"\"\n",
      "\n",
      "Question: What UV filters are banned?\n"
     ]
    },
    {
     "data": {
      "text/plain": [
       "'I could not find an answer.'"
      ]
     },
     "execution_count": 35,
     "metadata": {},
     "output_type": "execute_result"
    }
   ],
   "source": [
    "ask('What UV filters are banned?', print_message=True)"
   ]
  },
  {
   "cell_type": "code",
   "execution_count": null,
   "id": "c742fc19-7f64-44ca-915a-9f1c2ddce0b0",
   "metadata": {},
   "outputs": [],
   "source": []
  }
 ],
 "metadata": {
  "kernelspec": {
   "display_name": "Python 3 (ipykernel)",
   "language": "python",
   "name": "python3"
  },
  "language_info": {
   "codemirror_mode": {
    "name": "ipython",
    "version": 3
   },
   "file_extension": ".py",
   "mimetype": "text/x-python",
   "name": "python",
   "nbconvert_exporter": "python",
   "pygments_lexer": "ipython3",
   "version": "3.11.4"
  }
 },
 "nbformat": 4,
 "nbformat_minor": 5
}
